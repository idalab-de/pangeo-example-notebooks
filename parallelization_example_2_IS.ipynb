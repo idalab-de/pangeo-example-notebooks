{
 "cells": [
  {
   "cell_type": "markdown",
   "metadata": {},
   "source": [
    "# Parallel job execution with dask - Using custom-defined modules"
   ]
  },
  {
   "cell_type": "markdown",
   "metadata": {},
   "source": [
    "This notebook contains an example showing how to execute a function that uses a subroutine saved in `../example_code/very_hard_problems` on multiple remote workers in parallel."
   ]
  },
  {
   "cell_type": "code",
   "execution_count": null,
   "metadata": {},
   "outputs": [],
   "source": [
    "import sys,os,time,dask.bag\n",
    "import numpy as np\n",
    "sys.path.append('/'.join(os.getcwd().split('/') + ['example_code']))\n",
    "import very_hard_problems as vhp"
   ]
  },
  {
   "cell_type": "code",
   "execution_count": null,
   "metadata": {},
   "outputs": [],
   "source": [
    "from dask_kubernetes import KubeCluster\n",
    "cluster = KubeCluster(n_workers=2)\n",
    "cluster"
   ]
  },
  {
   "cell_type": "code",
   "execution_count": null,
   "metadata": {
    "scrolled": true
   },
   "outputs": [],
   "source": [
    "from dask.distributed import Client, progress\n",
    "c = Client(cluster)\n",
    "c"
   ]
  },
  {
   "cell_type": "code",
   "execution_count": null,
   "metadata": {},
   "outputs": [],
   "source": [
    "# upload custom-defined modules\n",
    "files_to_upload = [\n",
    "    'very_hard_problems.py'\n",
    "]\n",
    "\n",
    "for file in files_to_upload:\n",
    "    c.upload_file('example_code/' + file)"
   ]
  },
  {
   "cell_type": "code",
   "execution_count": null,
   "metadata": {},
   "outputs": [],
   "source": [
    "c.get_versions(check=True)"
   ]
  },
  {
   "cell_type": "code",
   "execution_count": null,
   "metadata": {},
   "outputs": [],
   "source": [
    "tic = time.time()\n",
    "vhp.very_hard_problem(10000000)\n",
    "print('Serial execution of very_hard_problem takes', time.time() - tic, 'seconds per process')"
   ]
  },
  {
   "cell_type": "code",
   "execution_count": null,
   "metadata": {},
   "outputs": [],
   "source": [
    "num_procs = 20\n",
    "parameters = np.arange(10000000,10000000 + num_procs)\n",
    "\n",
    "parameters_bag = dask.bag.from_sequence(parameters)\n",
    "mapping = parameters_bag.map(vhp.very_hard_problem)\n",
    "\n",
    "tic = time.time()\n",
    "mapping.compute()\n",
    "time_elapsed = time.time() - tic\n",
    "print('Parallel execution takes ' + str(time_elapsed) + ' seconds in total, ' + str(time_elapsed/num_procs) + ' per process')"
   ]
  },
  {
   "cell_type": "code",
   "execution_count": null,
   "metadata": {},
   "outputs": [],
   "source": []
  }
 ],
 "metadata": {
  "kernelspec": {
   "display_name": "Python 3",
   "language": "python",
   "name": "python3"
  },
  "language_info": {
   "codemirror_mode": {
    "name": "ipython",
    "version": 3
   },
   "file_extension": ".py",
   "mimetype": "text/x-python",
   "name": "python",
   "nbconvert_exporter": "python",
   "pygments_lexer": "ipython3",
   "version": "3.6.6"
  },
  "toc": {
   "base_numbering": 1,
   "nav_menu": {},
   "number_sections": true,
   "sideBar": true,
   "skip_h1_title": false,
   "title_cell": "Table of Contents",
   "title_sidebar": "Contents",
   "toc_cell": false,
   "toc_position": {},
   "toc_section_display": true,
   "toc_window_display": false
  }
 },
 "nbformat": 4,
 "nbformat_minor": 2
}
