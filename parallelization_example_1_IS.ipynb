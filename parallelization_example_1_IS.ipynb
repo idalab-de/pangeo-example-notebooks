{
 "cells": [
  {
   "cell_type": "markdown",
   "metadata": {},
   "source": [
    "# Parallel job execution with joblib"
   ]
  },
  {
   "cell_type": "markdown",
   "metadata": {},
   "source": [
    "This notebook contains an example showing how to execute a function on multiple remote workers in parallel."
   ]
  },
  {
   "cell_type": "code",
   "execution_count": 1,
   "metadata": {},
   "outputs": [],
   "source": [
    "import numpy as np\n",
    "\n",
    "import dask,time\n",
    "import dask.bag\n",
    "from sklearn.externals import joblib"
   ]
  },
  {
   "cell_type": "code",
   "execution_count": 2,
   "metadata": {},
   "outputs": [
    {
     "data": {
      "application/vnd.jupyter.widget-view+json": {
       "model_id": "742c51aa18dc49ccb72151c58608303c",
       "version_major": 2,
       "version_minor": 0
      },
      "text/plain": [
       "VBox(children=(HTML(value='<h2>KubeCluster</h2>'), HBox(children=(HTML(value='\\n<div>\\n  <style scoped>\\n    .…"
      ]
     },
     "metadata": {},
     "output_type": "display_data"
    }
   ],
   "source": [
    "from dask_kubernetes import KubeCluster\n",
    "cluster = KubeCluster.from_yaml('../worker.yaml')\n",
    "cluster"
   ]
  },
  {
   "cell_type": "code",
   "execution_count": 3,
   "metadata": {},
   "outputs": [
    {
     "data": {
      "text/html": [
       "<table style=\"border: 2px solid white;\">\n",
       "<tr>\n",
       "<td style=\"vertical-align: top; border: 0px solid white\">\n",
       "<h3>Client</h3>\n",
       "<ul>\n",
       "  <li><b>Scheduler: </b>tcp://10.16.1.11:36925\n",
       "  <li><b>Dashboard: </b><a href='/user/ingmar/proxy/44900/status' target='_blank'>/user/ingmar/proxy/44900/status</a>\n",
       "</ul>\n",
       "</td>\n",
       "<td style=\"vertical-align: top; border: 0px solid white\">\n",
       "<h3>Cluster</h3>\n",
       "<ul>\n",
       "  <li><b>Workers: </b>0</li>\n",
       "  <li><b>Cores: </b>0</li>\n",
       "  <li><b>Memory: </b>0 B</li>\n",
       "</ul>\n",
       "</td>\n",
       "</tr>\n",
       "</table>"
      ],
      "text/plain": [
       "<Client: scheduler='tcp://10.16.1.11:36925' processes=0 cores=0>"
      ]
     },
     "execution_count": 3,
     "metadata": {},
     "output_type": "execute_result"
    }
   ],
   "source": [
    "from dask.distributed import Client, progress\n",
    "c = Client(cluster)\n",
    "c"
   ]
  },
  {
   "cell_type": "code",
   "execution_count": 4,
   "metadata": {},
   "outputs": [
    {
     "data": {
      "text/plain": [
       "{'scheduler': {'host': (('python', '3.6.3.final.0'),\n",
       "   ('python-bits', 64),\n",
       "   ('OS', 'Linux'),\n",
       "   ('OS-release', '4.4.111+'),\n",
       "   ('machine', 'x86_64'),\n",
       "   ('processor', 'x86_64'),\n",
       "   ('byteorder', 'little'),\n",
       "   ('LC_ALL', 'en_US.UTF-8'),\n",
       "   ('LANG', 'en_US.UTF-8'),\n",
       "   ('LOCALE', 'en_US.UTF-8')),\n",
       "  'packages': {'required': (('dask', '0.18.2'),\n",
       "    ('distributed', '1.22.1'),\n",
       "    ('msgpack', '0.5.6'),\n",
       "    ('cloudpickle', '0.6.1'),\n",
       "    ('tornado', '5.0.2'),\n",
       "    ('toolz', '0.9.0')),\n",
       "   'optional': (('numpy', '1.15.1'),\n",
       "    ('pandas', '0.23.2'),\n",
       "    ('bokeh', '0.12.16'),\n",
       "    ('lz4', '2.1.1'),\n",
       "    ('blosc', '1.5.1'))}},\n",
       " 'workers': {'tcp://10.16.22.8:33176': {'host': (('python', '3.6.3.final.0'),\n",
       "    ('python-bits', 64),\n",
       "    ('OS', 'Linux'),\n",
       "    ('OS-release', '4.4.111+'),\n",
       "    ('machine', 'x86_64'),\n",
       "    ('processor', 'x86_64'),\n",
       "    ('byteorder', 'little'),\n",
       "    ('LC_ALL', 'en_US.UTF-8'),\n",
       "    ('LANG', 'en_US.UTF-8'),\n",
       "    ('LOCALE', 'en_US.UTF-8')),\n",
       "   'packages': {'required': (('dask', '0.18.2'),\n",
       "     ('distributed', '1.22.1'),\n",
       "     ('msgpack', '0.5.6'),\n",
       "     ('cloudpickle', '0.6.1'),\n",
       "     ('tornado', '5.0.2'),\n",
       "     ('toolz', '0.9.0')),\n",
       "    'optional': (('numpy', '1.15.1'),\n",
       "     ('pandas', '0.23.2'),\n",
       "     ('bokeh', '0.12.16'),\n",
       "     ('lz4', '2.1.1'),\n",
       "     ('blosc', '1.5.1'))}},\n",
       "  'tcp://10.16.23.8:36951': {'host': (('python', '3.6.3.final.0'),\n",
       "    ('python-bits', 64),\n",
       "    ('OS', 'Linux'),\n",
       "    ('OS-release', '4.4.111+'),\n",
       "    ('machine', 'x86_64'),\n",
       "    ('processor', 'x86_64'),\n",
       "    ('byteorder', 'little'),\n",
       "    ('LC_ALL', 'en_US.UTF-8'),\n",
       "    ('LANG', 'en_US.UTF-8'),\n",
       "    ('LOCALE', 'en_US.UTF-8')),\n",
       "   'packages': {'required': (('dask', '0.18.2'),\n",
       "     ('distributed', '1.22.1'),\n",
       "     ('msgpack', '0.5.6'),\n",
       "     ('cloudpickle', '0.6.1'),\n",
       "     ('tornado', '5.0.2'),\n",
       "     ('toolz', '0.9.0')),\n",
       "    'optional': (('numpy', '1.15.1'),\n",
       "     ('pandas', '0.23.2'),\n",
       "     ('bokeh', '0.12.16'),\n",
       "     ('lz4', '2.1.1'),\n",
       "     ('blosc', '1.5.1'))}},\n",
       "  'tcp://10.16.24.8:37651': {'host': (('python', '3.6.3.final.0'),\n",
       "    ('python-bits', 64),\n",
       "    ('OS', 'Linux'),\n",
       "    ('OS-release', '4.4.111+'),\n",
       "    ('machine', 'x86_64'),\n",
       "    ('processor', 'x86_64'),\n",
       "    ('byteorder', 'little'),\n",
       "    ('LC_ALL', 'en_US.UTF-8'),\n",
       "    ('LANG', 'en_US.UTF-8'),\n",
       "    ('LOCALE', 'en_US.UTF-8')),\n",
       "   'packages': {'required': (('dask', '0.18.2'),\n",
       "     ('distributed', '1.22.1'),\n",
       "     ('msgpack', '0.5.6'),\n",
       "     ('cloudpickle', '0.6.1'),\n",
       "     ('tornado', '5.0.2'),\n",
       "     ('toolz', '0.9.0')),\n",
       "    'optional': (('numpy', '1.15.1'),\n",
       "     ('pandas', '0.23.2'),\n",
       "     ('bokeh', '0.12.16'),\n",
       "     ('lz4', '2.1.1'),\n",
       "     ('blosc', '1.5.1'))}},\n",
       "  'tcp://10.16.25.9:33734': {'host': (('python', '3.6.3.final.0'),\n",
       "    ('python-bits', 64),\n",
       "    ('OS', 'Linux'),\n",
       "    ('OS-release', '4.4.111+'),\n",
       "    ('machine', 'x86_64'),\n",
       "    ('processor', 'x86_64'),\n",
       "    ('byteorder', 'little'),\n",
       "    ('LC_ALL', 'en_US.UTF-8'),\n",
       "    ('LANG', 'en_US.UTF-8'),\n",
       "    ('LOCALE', 'en_US.UTF-8')),\n",
       "   'packages': {'required': (('dask', '0.18.2'),\n",
       "     ('distributed', '1.22.1'),\n",
       "     ('msgpack', '0.5.6'),\n",
       "     ('cloudpickle', '0.6.1'),\n",
       "     ('tornado', '5.0.2'),\n",
       "     ('toolz', '0.9.0')),\n",
       "    'optional': (('numpy', '1.15.1'),\n",
       "     ('pandas', '0.23.2'),\n",
       "     ('bokeh', '0.12.16'),\n",
       "     ('lz4', '2.1.1'),\n",
       "     ('blosc', '1.5.1'))}},\n",
       "  'tcp://10.16.27.8:46295': {'host': (('python', '3.6.3.final.0'),\n",
       "    ('python-bits', 64),\n",
       "    ('OS', 'Linux'),\n",
       "    ('OS-release', '4.4.111+'),\n",
       "    ('machine', 'x86_64'),\n",
       "    ('processor', 'x86_64'),\n",
       "    ('byteorder', 'little'),\n",
       "    ('LC_ALL', 'en_US.UTF-8'),\n",
       "    ('LANG', 'en_US.UTF-8'),\n",
       "    ('LOCALE', 'en_US.UTF-8')),\n",
       "   'packages': {'required': (('dask', '0.18.2'),\n",
       "     ('distributed', '1.22.1'),\n",
       "     ('msgpack', '0.5.6'),\n",
       "     ('cloudpickle', '0.6.1'),\n",
       "     ('tornado', '5.0.2'),\n",
       "     ('toolz', '0.9.0')),\n",
       "    'optional': (('numpy', '1.15.1'),\n",
       "     ('pandas', '0.23.2'),\n",
       "     ('bokeh', '0.12.16'),\n",
       "     ('lz4', '2.1.1'),\n",
       "     ('blosc', '1.5.1'))}},\n",
       "  'tcp://10.16.28.8:42412': {'host': (('python', '3.6.3.final.0'),\n",
       "    ('python-bits', 64),\n",
       "    ('OS', 'Linux'),\n",
       "    ('OS-release', '4.4.111+'),\n",
       "    ('machine', 'x86_64'),\n",
       "    ('processor', 'x86_64'),\n",
       "    ('byteorder', 'little'),\n",
       "    ('LC_ALL', 'en_US.UTF-8'),\n",
       "    ('LANG', 'en_US.UTF-8'),\n",
       "    ('LOCALE', 'en_US.UTF-8')),\n",
       "   'packages': {'required': (('dask', '0.18.2'),\n",
       "     ('distributed', '1.22.1'),\n",
       "     ('msgpack', '0.5.6'),\n",
       "     ('cloudpickle', '0.6.1'),\n",
       "     ('tornado', '5.0.2'),\n",
       "     ('toolz', '0.9.0')),\n",
       "    'optional': (('numpy', '1.15.1'),\n",
       "     ('pandas', '0.23.2'),\n",
       "     ('bokeh', '0.12.16'),\n",
       "     ('lz4', '2.1.1'),\n",
       "     ('blosc', '1.5.1'))}},\n",
       "  'tcp://10.16.3.19:35712': {'host': (('python', '3.6.3.final.0'),\n",
       "    ('python-bits', 64),\n",
       "    ('OS', 'Linux'),\n",
       "    ('OS-release', '4.4.111+'),\n",
       "    ('machine', 'x86_64'),\n",
       "    ('processor', 'x86_64'),\n",
       "    ('byteorder', 'little'),\n",
       "    ('LC_ALL', 'en_US.UTF-8'),\n",
       "    ('LANG', 'en_US.UTF-8'),\n",
       "    ('LOCALE', 'en_US.UTF-8')),\n",
       "   'packages': {'required': (('dask', '0.18.2'),\n",
       "     ('distributed', '1.22.1'),\n",
       "     ('msgpack', '0.5.6'),\n",
       "     ('cloudpickle', '0.6.1'),\n",
       "     ('tornado', '5.0.2'),\n",
       "     ('toolz', '0.9.0')),\n",
       "    'optional': (('numpy', '1.15.1'),\n",
       "     ('pandas', '0.23.2'),\n",
       "     ('bokeh', '0.12.16'),\n",
       "     ('lz4', '2.1.1'),\n",
       "     ('blosc', '1.5.1'))}},\n",
       "  'tcp://10.16.31.8:38513': {'host': (('python', '3.6.3.final.0'),\n",
       "    ('python-bits', 64),\n",
       "    ('OS', 'Linux'),\n",
       "    ('OS-release', '4.4.111+'),\n",
       "    ('machine', 'x86_64'),\n",
       "    ('processor', 'x86_64'),\n",
       "    ('byteorder', 'little'),\n",
       "    ('LC_ALL', 'en_US.UTF-8'),\n",
       "    ('LANG', 'en_US.UTF-8'),\n",
       "    ('LOCALE', 'en_US.UTF-8')),\n",
       "   'packages': {'required': (('dask', '0.18.2'),\n",
       "     ('distributed', '1.22.1'),\n",
       "     ('msgpack', '0.5.6'),\n",
       "     ('cloudpickle', '0.6.1'),\n",
       "     ('tornado', '5.0.2'),\n",
       "     ('toolz', '0.9.0')),\n",
       "    'optional': (('numpy', '1.15.1'),\n",
       "     ('pandas', '0.23.2'),\n",
       "     ('bokeh', '0.12.16'),\n",
       "     ('lz4', '2.1.1'),\n",
       "     ('blosc', '1.5.1'))}},\n",
       "  'tcp://10.16.33.8:37211': {'host': (('python', '3.6.3.final.0'),\n",
       "    ('python-bits', 64),\n",
       "    ('OS', 'Linux'),\n",
       "    ('OS-release', '4.4.111+'),\n",
       "    ('machine', 'x86_64'),\n",
       "    ('processor', 'x86_64'),\n",
       "    ('byteorder', 'little'),\n",
       "    ('LC_ALL', 'en_US.UTF-8'),\n",
       "    ('LANG', 'en_US.UTF-8'),\n",
       "    ('LOCALE', 'en_US.UTF-8')),\n",
       "   'packages': {'required': (('dask', '0.18.2'),\n",
       "     ('distributed', '1.22.1'),\n",
       "     ('msgpack', '0.5.6'),\n",
       "     ('cloudpickle', '0.6.1'),\n",
       "     ('tornado', '5.0.2'),\n",
       "     ('toolz', '0.9.0')),\n",
       "    'optional': (('numpy', '1.15.1'),\n",
       "     ('pandas', '0.23.2'),\n",
       "     ('bokeh', '0.12.16'),\n",
       "     ('lz4', '2.1.1'),\n",
       "     ('blosc', '1.5.1'))}},\n",
       "  'tcp://10.16.35.8:43163': {'host': (('python', '3.6.3.final.0'),\n",
       "    ('python-bits', 64),\n",
       "    ('OS', 'Linux'),\n",
       "    ('OS-release', '4.4.111+'),\n",
       "    ('machine', 'x86_64'),\n",
       "    ('processor', 'x86_64'),\n",
       "    ('byteorder', 'little'),\n",
       "    ('LC_ALL', 'en_US.UTF-8'),\n",
       "    ('LANG', 'en_US.UTF-8'),\n",
       "    ('LOCALE', 'en_US.UTF-8')),\n",
       "   'packages': {'required': (('dask', '0.18.2'),\n",
       "     ('distributed', '1.22.1'),\n",
       "     ('msgpack', '0.5.6'),\n",
       "     ('cloudpickle', '0.6.1'),\n",
       "     ('tornado', '5.0.2'),\n",
       "     ('toolz', '0.9.0')),\n",
       "    'optional': (('numpy', '1.15.1'),\n",
       "     ('pandas', '0.23.2'),\n",
       "     ('bokeh', '0.12.16'),\n",
       "     ('lz4', '2.1.1'),\n",
       "     ('blosc', '1.5.1'))}}},\n",
       " 'client': {'host': [('python', '3.6.3.final.0'),\n",
       "   ('python-bits', 64),\n",
       "   ('OS', 'Linux'),\n",
       "   ('OS-release', '4.4.111+'),\n",
       "   ('machine', 'x86_64'),\n",
       "   ('processor', 'x86_64'),\n",
       "   ('byteorder', 'little'),\n",
       "   ('LC_ALL', 'en_US.UTF-8'),\n",
       "   ('LANG', 'en_US.UTF-8'),\n",
       "   ('LOCALE', 'en_US.UTF-8')],\n",
       "  'packages': {'required': [('dask', '0.18.2'),\n",
       "    ('distributed', '1.22.1'),\n",
       "    ('msgpack', '0.5.6'),\n",
       "    ('cloudpickle', '0.6.1'),\n",
       "    ('tornado', '5.0.2'),\n",
       "    ('toolz', '0.9.0')],\n",
       "   'optional': [('numpy', '1.15.1'),\n",
       "    ('pandas', '0.23.2'),\n",
       "    ('bokeh', '0.12.16'),\n",
       "    ('lz4', '2.1.1'),\n",
       "    ('blosc', '1.5.1')]}}}"
      ]
     },
     "execution_count": 4,
     "metadata": {},
     "output_type": "execute_result"
    }
   ],
   "source": [
    "c.get_versions(check=True)"
   ]
  },
  {
   "cell_type": "code",
   "execution_count": 5,
   "metadata": {},
   "outputs": [],
   "source": [
    "def very_hard_problem(zahl):\n",
    "    res = 0\n",
    "    for n in np.arange(zahl):\n",
    "        res = res + n\n",
    "    return res"
   ]
  },
  {
   "cell_type": "code",
   "execution_count": 6,
   "metadata": {},
   "outputs": [
    {
     "name": "stdout",
     "output_type": "stream",
     "text": [
      "1.1631879806518555 seconds\n"
     ]
    }
   ],
   "source": [
    "tic = time.time()\n",
    "very_hard_problem(10000000)\n",
    "print(time.time() - tic,'seconds')"
   ]
  },
  {
   "cell_type": "code",
   "execution_count": 14,
   "metadata": {},
   "outputs": [],
   "source": [
    "num_procs = 20"
   ]
  },
  {
   "cell_type": "code",
   "execution_count": 15,
   "metadata": {},
   "outputs": [
    {
     "name": "stdout",
     "output_type": "stream",
     "text": [
      "2.54291033744812 seconds in total, 0.127145516872406 per process\n"
     ]
    }
   ],
   "source": [
    "tic = time.time()\n",
    "with joblib.parallel_backend('dask'):\n",
    "    result_list = joblib.Parallel()(\n",
    "        joblib.delayed(very_hard_problem)(i)\n",
    "        for i in np.arange(10000000,10000000 + num_procs)\n",
    "    )\n",
    "time_elapsed = time.time() - tic\n",
    "\n",
    "print(str(time_elapsed) + ' seconds in total, ' + str(time_elapsed/num_procs) + ' per process')"
   ]
  },
  {
   "cell_type": "code",
   "execution_count": 16,
   "metadata": {},
   "outputs": [],
   "source": [
    "params_bag = dask.bag.from_sequence(np.arange(10000000,10000000 + num_procs))"
   ]
  },
  {
   "cell_type": "code",
   "execution_count": 17,
   "metadata": {},
   "outputs": [
    {
     "name": "stdout",
     "output_type": "stream",
     "text": [
      "2.473707675933838 seconds in total, 0.12368538379669189 per process\n"
     ]
    }
   ],
   "source": [
    "tic = time.time()\n",
    "result_list = params_bag.map(lambda x: very_hard_problem(x)).compute()\n",
    "time_elapsed = time.time() - tic\n",
    "\n",
    "print(str(time_elapsed) + ' seconds in total, ' + str(time_elapsed/num_procs) + ' per process')"
   ]
  },
  {
   "cell_type": "code",
   "execution_count": null,
   "metadata": {},
   "outputs": [],
   "source": []
  }
 ],
 "metadata": {
  "kernelspec": {
   "display_name": "fmc-fly-pd",
   "language": "python",
   "name": "fmc-fly-pd"
  },
  "language_info": {
   "codemirror_mode": {
    "name": "ipython",
    "version": 3
   },
   "file_extension": ".py",
   "mimetype": "text/x-python",
   "name": "python",
   "nbconvert_exporter": "python",
   "pygments_lexer": "ipython3",
   "version": "3.6.1"
  },
  "toc": {
   "base_numbering": 1,
   "nav_menu": {},
   "number_sections": true,
   "sideBar": true,
   "skip_h1_title": false,
   "title_cell": "Table of Contents",
   "title_sidebar": "Contents",
   "toc_cell": false,
   "toc_position": {},
   "toc_section_display": true,
   "toc_window_display": false
  }
 },
 "nbformat": 4,
 "nbformat_minor": 2
}
